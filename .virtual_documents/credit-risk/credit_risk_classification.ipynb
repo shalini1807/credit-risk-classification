# Import the modules
import numpy as np
import pandas as pd
from pathlib import Path
from sklearn.metrics import confusion_matrix, classification_report











# Read the CSV file from the Resources folder into a Pandas DataFrame
# YOUR CODE HERE!
file_path = Path("./Resources/lending_data.csv")
lending_data_df = pd.read_csv(file_path)
lending_data_df.head()

# Review the DataFrame
# YOUR CODE HERE!
lending_data_df.head()






# Separate the data into labels and features
y = lending_data_df["loan_status"]

# Separate the y variable, the labels
# YOUR CODE HERE!]
X = lending_data_df.drop(columns=["loan_status"])

# Separate the X variable, the features
# YOUR CODE HERE!
print("Features (X):")
print(X.head())
print("\nLabels (y):")
print(y.head())




# Review the y variable Series
# YOUR CODE HERE!
print("y variable overview:")
print(y.head())  # Display the first 5 rows
print("\nValue counts of y:")
print(y.value_counts())  # Check the distribution of values
print("\nData type of y:")
print(y.dtype)  # Check the data type



# Review the X variable DataFrame
# YOUR CODE HERE!
print("x variable overview:")
print(X.head())  # Display the first 5 rows
print("\nValue counts of X:")
print(X.value_counts())  # Check the distribution of values
#print("\nData type of X:")







# Import the train_test_learn module
from sklearn.model_selection import train_test_split

# Split the data using train_test_split
# Assign a random_state of 1 to the function
# YOUR CODE HERE!
X_train, X_test, y_train, y_test = train_test_split(X,y, random_state=1)












# Import the LogisticRegression module from SKLearn
from sklearn.linear_model import LogisticRegression

# Instantiate the Logistic Regression model
# Assign a random_state parameter of 1 to the model
# YOUR CODE HERE!
model = LogisticRegression(random_state=1)

# Fit the model using training data
# YOUR CODE HERE!
model.fit(X_train, y_train)






# Make a prediction using the testing data
# YOUR CODE HERE!
y_pred = model.predict(X_test)
y_pred[:5]





# Generate a confusion matrix for the model
# YOUR CODE HERE!
from sklearn.metrics import confusion_matrix, ConfusionMatrixDisplay
cm = confusion_matrix(y_test, y_pred)
disp = ConfusionMatrixDisplay(confusion_matrix=cm, display_labels=model.classes_)
disp.plot(cmap="Blues")  # Use a blue color map for better visualization

# Show the plot
import matplotlib.pyplot as plt
plt.show()



from sklearn.metrics import classification_report
# Print the classification report for the model
# YOUR CODE HERE!
report = classification_report(y_test, y_pred)
print("Classification Report:")
print(report)













